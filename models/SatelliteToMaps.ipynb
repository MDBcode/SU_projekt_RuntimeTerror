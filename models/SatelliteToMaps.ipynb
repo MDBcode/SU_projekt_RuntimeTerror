{
  "cells": [
    {
      "cell_type": "code",
      "execution_count": null,
      "metadata": {
        "id": "fB2soC6nKYpW"
      },
      "outputs": [],
      "source": [
        "!pip install git+https://github.com/tensorflow/docs"
      ]
    },
    {
      "cell_type": "code",
      "execution_count": null,
      "metadata": {
        "id": "3RTTYMmBvDSh"
      },
      "outputs": [],
      "source": [
        "#imports\n",
        "from PIL import Image\n",
        "import numpy as np\n",
        "from numpy import expand_dims\n",
        "from numpy import load\n",
        "from numpy.random import randn\n",
        "from numpy.random import randint\n",
        "from tensorflow.keras.optimizers import Adam\n",
        "from keras.initializers import RandomNormal\n",
        "from keras.models import Model\n",
        "from keras.models import load_model\n",
        "from keras.layers import Input\n",
        "from keras.layers import Conv2D\n",
        "from keras.layers import Conv2DTranspose\n",
        "from keras.layers import LeakyReLU\n",
        "from keras.layers.normalization.batch_normalization import BatchNormalization\n",
        "from keras.layers import Embedding\n",
        "from keras.layers import Concatenate\n",
        "from keras.layers import Activation\n",
        "from tensorflow.keras.utils import plot_model\n",
        "from pathlib import Path\n",
        "import matplotlib.pyplot as plt\n",
        "from tqdm.notebook import tqdm"
      ]
    },
    {
      "cell_type": "markdown",
      "metadata": {
        "id": "LdeOiZHHwLJ_"
      },
      "source": [
        "## Load data"
      ]
    },
    {
      "cell_type": "code",
      "execution_count": null,
      "metadata": {
        "colab": {
          "base_uri": "https://localhost:8080/"
        },
        "id": "9Nr8y1I-XkDu",
        "outputId": "e5086513-4203-49ae-93fb-9e788e4a2523"
      },
      "outputs": [
        {
          "output_type": "stream",
          "name": "stdout",
          "text": [
            "Mounted at /content/drive\n"
          ]
        }
      ],
      "source": [
        "from google.colab import drive\n",
        "drive.mount('/content/drive')"
      ]
    },
    {
      "cell_type": "code",
      "execution_count": null,
      "metadata": {
        "id": "pzw8PNCQG7za"
      },
      "outputs": [],
      "source": [
        "DATA_PATH_MAPS = Path(\"/content/drive/MyDrive/SU_Projekt/dataset/trainSplit/maps\")\n",
        "DATA_PATH_SATTELITES = Path(\"/content/drive/MyDrive/SU_Projekt/dataset/trainSplit/sats\")"
      ]
    },
    {
      "cell_type": "code",
      "execution_count": null,
      "metadata": {
        "id": "UoZrOfeiwFhm"
      },
      "outputs": [],
      "source": [
        "def load_real_samples(img_dim = 256):\n",
        "    maps = np.zeros((0,img_dim, img_dim, 3), 'float32')\n",
        "    sattelites = np.zeros((0,img_dim, img_dim, 3), 'float32')\n",
        "    for p in tqdm(sorted([str(p) for p in list(DATA_PATH_MAPS.glob('*.jpg'))], key=str.lower)):\n",
        "      img = Image.open(str(p))\n",
        "      maps = np.append(maps, np.asarray(img)[None,...].astype('float32'), axis=0)\n",
        "    for p in tqdm(sorted([str(p) for p in list(DATA_PATH_SATTELITES.glob('*.jpg'))], key=str.lower)):\n",
        "      img = Image.open(str(p))\n",
        "      sattelites = np.append(sattelites, np.asarray(img)[None,...].astype('float32'), axis=0)\n",
        "    # scale from [0,255] to [-1,1]\n",
        "    map = (maps - 127.5) / 127.5\n",
        "    sattelite = (sattelites - 127.5) / 127.5\n",
        "    return [sattelite, map]"
      ]
    },
    {
      "cell_type": "code",
      "execution_count": null,
      "metadata": {
        "colab": {
          "base_uri": "https://localhost:8080/",
          "height": 98,
          "referenced_widgets": [
            "46e0614f4ea5422f8373694d91792773",
            "5740fe1db8d64eceb3882332f3fbf0ec",
            "a1d35d3921ff4007bda82dcc31a7e9fc",
            "170ffbce3fdf43e8937405c4f5633f66",
            "4e379eee03c14c04935f57ecc6627d48",
            "52246fa3e91647bc9a787e2172bd142a",
            "9957dc4a77c342ea9086ae9dd36131f8",
            "d219165b3b4140c4b47baa11606df7c9",
            "fd665b8563704b059605c7938b4ba9db",
            "4476d8b6f9d14a48ac2ff6ab54332aab",
            "d2705892ee5848d0bd6474d9a3b59664",
            "ed5948f25bd749b0936e967444f06a09",
            "34d14d5bdb284b4abf00a82c86be9045",
            "812cca1862fb4235b61804cb53aa9935",
            "f5095f8accde4ab896a5d2d485c4eda2",
            "990a5088427f49d6844339fc07ce84f8",
            "be7f68a8db3942e5804fc2dcbd9043c5",
            "5a904374f651401884f1ef434f5049ea",
            "eb63e05f8d6d418ba2fa595f3403f8fe",
            "27da230a615d4bd9a3c4275feab13568",
            "c46a3ca0f8624b13ab0a3873804da91f",
            "0632be84ff5346eaa05c082d270ef136"
          ]
        },
        "id": "nifzBAdlYckA",
        "outputId": "fa8dbe7e-cfc3-48b5-fd77-f79bdbb59401"
      },
      "outputs": [
        {
          "output_type": "display_data",
          "data": {
            "text/plain": [
              "  0%|          | 0/1307 [00:00<?, ?it/s]"
            ],
            "application/vnd.jupyter.widget-view+json": {
              "version_major": 2,
              "version_minor": 0,
              "model_id": "46e0614f4ea5422f8373694d91792773"
            }
          },
          "metadata": {}
        },
        {
          "output_type": "display_data",
          "data": {
            "text/plain": [
              "  0%|          | 0/1307 [00:00<?, ?it/s]"
            ],
            "application/vnd.jupyter.widget-view+json": {
              "version_major": 2,
              "version_minor": 0,
              "model_id": "ed5948f25bd749b0936e967444f06a09"
            }
          },
          "metadata": {}
        },
        {
          "output_type": "stream",
          "name": "stdout",
          "text": [
            "Loaded (1307, 256, 256, 3) (1307, 256, 256, 3)\n"
          ]
        }
      ],
      "source": [
        "data = load_real_samples(256)\n",
        "print(\"Loaded\", data[0].shape, data[1].shape)\n",
        "# define input shape based on the loaded dataset\n",
        "img_shape = data[0].shape[1:]"
      ]
    },
    {
      "cell_type": "code",
      "execution_count": null,
      "metadata": {
        "id": "bZ0aZ3T_aVKj",
        "colab": {
          "base_uri": "https://localhost:8080/"
        },
        "outputId": "cb05038c-bcd4-4b45-a52f-f656d556a3b4"
      },
      "outputs": [
        {
          "output_type": "execute_result",
          "data": {
            "text/plain": [
              "(256, 256, 3)"
            ]
          },
          "metadata": {},
          "execution_count": 24
        }
      ],
      "source": [
        "img_shape"
      ]
    },
    {
      "cell_type": "code",
      "execution_count": null,
      "metadata": {
        "id": "nKyKkcYrUNm6",
        "colab": {
          "base_uri": "https://localhost:8080/",
          "height": 526
        },
        "outputId": "4e8ccbe1-ccc3-4097-a9bb-f0b62de642e3"
      },
      "outputs": [
        {
          "output_type": "stream",
          "name": "stderr",
          "text": [
            "Clipping input data to the valid range for imshow with RGB data ([0..1] for floats or [0..255] for integers).\n",
            "Clipping input data to the valid range for imshow with RGB data ([0..1] for floats or [0..255] for integers).\n",
            "Clipping input data to the valid range for imshow with RGB data ([0..1] for floats or [0..255] for integers).\n",
            "Clipping input data to the valid range for imshow with RGB data ([0..1] for floats or [0..255] for integers).\n",
            "Clipping input data to the valid range for imshow with RGB data ([0..1] for floats or [0..255] for integers).\n",
            "Clipping input data to the valid range for imshow with RGB data ([0..1] for floats or [0..255] for integers).\n",
            "Clipping input data to the valid range for imshow with RGB data ([0..1] for floats or [0..255] for integers).\n",
            "Clipping input data to the valid range for imshow with RGB data ([0..1] for floats or [0..255] for integers).\n",
            "Clipping input data to the valid range for imshow with RGB data ([0..1] for floats or [0..255] for integers).\n",
            "Clipping input data to the valid range for imshow with RGB data ([0..1] for floats or [0..255] for integers).\n",
            "Clipping input data to the valid range for imshow with RGB data ([0..1] for floats or [0..255] for integers).\n",
            "Clipping input data to the valid range for imshow with RGB data ([0..1] for floats or [0..255] for integers).\n",
            "Clipping input data to the valid range for imshow with RGB data ([0..1] for floats or [0..255] for integers).\n",
            "Clipping input data to the valid range for imshow with RGB data ([0..1] for floats or [0..255] for integers).\n",
            "Clipping input data to the valid range for imshow with RGB data ([0..1] for floats or [0..255] for integers).\n",
            "Clipping input data to the valid range for imshow with RGB data ([0..1] for floats or [0..255] for integers).\n"
          ]
        },
        {
          "output_type": "display_data",
          "data": {
            "text/plain": [
              "<Figure size 288x288 with 16 Axes>"
            ],
            "image/png": "[encoded data removed]"
          },
          "metadata": {
            "needs_background": "light"
          }
        }
      ],
      "source": [
        "fig = plt.figure(figsize=(4, 4))\n",
        "\n",
        "for i in range(16):\n",
        "  plt.subplot(4, 4, i+1)\n",
        "  plt.imshow((data[0][i]+1)/2)\n",
        "  plt.axis('off')"
      ]
    },
    {
      "cell_type": "code",
      "execution_count": null,
      "metadata": {
        "id": "mrWvDSE5Nh9-",
        "colab": {
          "base_uri": "https://localhost:8080/",
          "height": 404
        },
        "outputId": "105e98ed-c88e-4f3d-f736-63ed32e4f56c"
      },
      "outputs": [
        {
          "output_type": "stream",
          "name": "stderr",
          "text": [
            "Clipping input data to the valid range for imshow with RGB data ([0..1] for floats or [0..255] for integers).\n",
            "Clipping input data to the valid range for imshow with RGB data ([0..1] for floats or [0..255] for integers).\n",
            "Clipping input data to the valid range for imshow with RGB data ([0..1] for floats or [0..255] for integers).\n",
            "Clipping input data to the valid range for imshow with RGB data ([0..1] for floats or [0..255] for integers).\n",
            "Clipping input data to the valid range for imshow with RGB data ([0..1] for floats or [0..255] for integers).\n",
            "Clipping input data to the valid range for imshow with RGB data ([0..1] for floats or [0..255] for integers).\n",
            "Clipping input data to the valid range for imshow with RGB data ([0..1] for floats or [0..255] for integers).\n",
            "Clipping input data to the valid range for imshow with RGB data ([0..1] for floats or [0..255] for integers).\n",
            "Clipping input data to the valid range for imshow with RGB data ([0..1] for floats or [0..255] for integers).\n"
          ]
        },
        {
          "output_type": "display_data",
          "data": {
            "text/plain": [
              "<Figure size 288x288 with 16 Axes>"
            ],
            "image/png": "[encoded data removed]"
          },
          "metadata": {
            "needs_background": "light"
          }
        }
      ],
      "source": [
        "fig = plt.figure(figsize=(4, 4))\n",
        "\n",
        "for i in range(16):\n",
        "  plt.subplot(4, 4, i+1)\n",
        "  plt.imshow((data[1][i]+1)/2)\n",
        "  plt.axis('off')"
      ]
    },
    {
      "cell_type": "code",
      "execution_count": null,
      "metadata": {
        "id": "rb5hawl7MBoq"
      },
      "outputs": [],
      "source": [
        "# rotate images\n",
        "def rotate(data):\n",
        "  lenSats = data[0].shape[0]\n",
        "  lenMaps = data[1].shape[0]\n",
        "  for i in tqdm(range(lenSats)):\n",
        "    data[0] = np.append(data[0], np.rot90(data[0][i],2)[None,...].astype('float32'), axis=0)\n",
        "    data[1] = np.append(data[1], np.rot90(data[1][i],2)[None,...].astype('float32'), axis=0)\n",
        "  return data"
      ]
    },
    {
      "cell_type": "code",
      "execution_count": null,
      "metadata": {
        "colab": {
          "base_uri": "https://localhost:8080/",
          "height": 66,
          "referenced_widgets": [
            "e8348a7415bc4095a5de5a58026a78d7",
            "b3903c0bba6045dfa8010321404c2232",
            "235716062da54f54a5647b7dff75a46b",
            "58198212903f483a98105d2f3eada086",
            "5d22f61f022444df92282cc033a9681d",
            "e2d4c2ddc8994d30832bd951c84cee6c",
            "381abeee3cc54c00891695155c8545e9",
            "4e46565bfe014963beca335f7fd280ae",
            "5f115d5f5d4245de9dc333218ebf36c1",
            "a4ccedb39e3249a390c3a3c26ab00247",
            "2a989faac6304f77a7fa8999caf6e692"
          ]
        },
        "id": "ACA3H4fcrnJq",
        "outputId": "ab119225-c022-41e4-997b-347594851655"
      },
      "outputs": [
        {
          "output_type": "display_data",
          "data": {
            "text/plain": [
              "  0%|          | 0/1307 [00:00<?, ?it/s]"
            ],
            "application/vnd.jupyter.widget-view+json": {
              "version_major": 2,
              "version_minor": 0,
              "model_id": "e8348a7415bc4095a5de5a58026a78d7"
            }
          },
          "metadata": {}
        },
        {
          "output_type": "stream",
          "name": "stdout",
          "text": [
            "(2614, 256, 256, 3) (2614, 256, 256, 3)\n"
          ]
        }
      ],
      "source": [
        "data = rotate(data)\n",
        "print(data[0].shape, data[1].shape)"
      ]
    },
    {
      "cell_type": "markdown",
      "metadata": {
        "id": "VqZO7EU0NFXI"
      },
      "source": [
        "## Make discriminator model"
      ]
    },
    {
      "cell_type": "code",
      "execution_count": null,
      "metadata": {
        "id": "SKlECHtUr8PL"
      },
      "outputs": [],
      "source": [
        "#define discriminator model\n",
        "def make_discriminator(img_shape = (256,256,3)):\n",
        "  #input image (sattelite)\n",
        "  in_img = Input(shape=img_shape)\n",
        "  #target image - map\n",
        "  target_img = Input(shape=img_shape)\n",
        "  merge = Concatenate()([in_img, target_img])\n",
        "\n",
        "  d = Conv2D(64, (4,4), strides=(2,2), padding='same')(merge)\n",
        "  d = BatchNormalization()(d)\n",
        "  d = LeakyReLU(alpha=0.2)(d)\n",
        "\n",
        "  d = Conv2D(128, (4,4), strides=(2,2), padding='same')(d)\n",
        "  d = BatchNormalization()(d)\n",
        "  d = LeakyReLU(alpha=0.2)(d)\n",
        "\n",
        "  d = Conv2D(256, (4,4), strides=(2,2), padding='same')(d)\n",
        "  d = BatchNormalization()(d)\n",
        "  d = LeakyReLU(alpha=0.2)(d)\n",
        "\n",
        "  d = Conv2D(512, (4,4), strides=(2,2), padding='same')(d)\n",
        "  d = BatchNormalization()(d)\n",
        "  d = LeakyReLU(alpha=0.2)(d)\n",
        "\n",
        "  d = Conv2D(512, (4,4), strides=(2,2), padding='same')(d)\n",
        "  d = BatchNormalization()(d)\n",
        "  d = LeakyReLU(alpha=0.2)(d)\n",
        "\n",
        "\t# output\n",
        "  d = Conv2D(1, (4,4), padding='same')(d)\n",
        "  out_layer = Activation('sigmoid')(d)\n",
        "\t# define model\n",
        "  model = Model([in_img, target_img], out_layer)\n",
        "\t# compile model\n",
        "  opt = Adam(learning_rate=0.0002, beta_1=0.5)\n",
        "  model.compile(loss='binary_crossentropy', optimizer=opt, metrics=['accuracy'])\n",
        "  plot_model(model, to_file='/content/drive/MyDrive/SU_Projekt/discriminator.png', show_shapes=True)\n",
        "  return model"
      ]
    },
    {
      "cell_type": "code",
      "execution_count": null,
      "metadata": {
        "id": "pq8Gjowtv-ea",
        "colab": {
          "base_uri": "https://localhost:8080/"
        },
        "outputId": "e93ae1f9-2718-4a2f-d1ac-4174b0dc7452"
      },
      "outputs": [
        {
          "output_type": "stream",
          "name": "stdout",
          "text": [
            "(None, 8, 8, 1)\n"
          ]
        }
      ],
      "source": [
        "discriminator = make_discriminator()\n",
        "print(discriminator.output_shape)"
      ]
    },
    {
      "cell_type": "markdown",
      "metadata": {
        "id": "apSfXr89NVhw"
      },
      "source": [
        "## Make generator model"
      ]
    },
    {
      "cell_type": "code",
      "execution_count": null,
      "metadata": {
        "id": "xkHlGvH8tqnn"
      },
      "outputs": [],
      "source": [
        "#define generator\n",
        "def make_generator(img_shape=(256,256,3)):\n",
        "  init = RandomNormal()\n",
        "  dim = img_shape[0]\n",
        "  input_img = Input(shape=img_shape)\n",
        "\n",
        "  g = Conv2D(dim*2,(4, 4), strides=(2, 2), padding='same', kernel_initializer=init)(input_img)\n",
        "  g = BatchNormalization()(g, training=True)\n",
        "  g = LeakyReLU(alpha=0.2)(g)\n",
        "\n",
        "  g = Conv2D(dim*2, (4, 4), strides=(2, 2),padding='same', kernel_initializer=init)(g)\n",
        "  g = BatchNormalization()(g, training=True)\n",
        "  g = LeakyReLU(alpha=0.2)(g)\n",
        "\n",
        "  g = Conv2D(dim*2,(4, 4), strides=(2, 2),padding='same', kernel_initializer=init)(g)\n",
        "  g = BatchNormalization()(g, training=True)\n",
        "  g = LeakyReLU(alpha=0.2)(g)\n",
        "\n",
        "  g = Conv2DTranspose(dim,(4, 4), strides=(2, 2),padding='same', kernel_initializer=init)(g)\n",
        "  g = BatchNormalization()(g, training=True)\n",
        "  g = LeakyReLU(alpha=0.2)(g)\n",
        "\n",
        "  g = Conv2DTranspose(dim//2,(4, 4), strides=(2, 2),padding='same', kernel_initializer=init)(g)\n",
        "  g = BatchNormalization()(g, training=True)\n",
        "  g = LeakyReLU(alpha=0.2)(g)\n",
        "\n",
        "  g = Conv2DTranspose(3, 4, 2, padding='same', kernel_initializer=init)(g)\n",
        "  \n",
        "  output_img = Activation('tanh')(g)\n",
        "  model = Model(input_img, output_img)\n",
        "  plot_model(model, to_file='/content/drive/MyDrive/SU_Projekt/generator.png', show_shapes=True)\n",
        "  return model"
      ]
    },
    {
      "cell_type": "code",
      "execution_count": null,
      "metadata": {
        "id": "DjnYXKqnXU7f",
        "colab": {
          "base_uri": "https://localhost:8080/"
        },
        "outputId": "c9c77a61-98b2-43af-ee51-58da5694f90e"
      },
      "outputs": [
        {
          "output_type": "stream",
          "name": "stdout",
          "text": [
            "(None, 256, 256, 3)\n"
          ]
        }
      ],
      "source": [
        "generator = make_generator()\n",
        "print(generator.output_shape)"
      ]
    },
    {
      "cell_type": "markdown",
      "metadata": {
        "id": "Lsm4Y5y4NaBN"
      },
      "source": [
        "## Make GAN model"
      ]
    },
    {
      "cell_type": "code",
      "execution_count": null,
      "metadata": {
        "id": "pPPMYEGlvLJM"
      },
      "outputs": [],
      "source": [
        "#define gan\n",
        "def make_gan(gen_model, dis_model, img_shape):\n",
        "  dis_model.trainable = False\n",
        "  # source image\n",
        "  src_img = Input(shape=(img_shape))\n",
        "  #connect src image to generator\n",
        "  gen_out = gen_model(src_img)\n",
        "  # connect src image gen output to discriminator\n",
        "  dis_out = dis_model([src_img, gen_out])\n",
        "  # src img as input\n",
        "  model = Model(src_img, [dis_out, gen_out])\n",
        "  #compile model\n",
        "  opt = Adam(learning_rate=0.0002, beta_1=0.5)\n",
        "  model.compile(loss=['binary_crossentropy', 'mae'], optimizer=opt, loss_weights=[1, 100])\n",
        "  plot_model(model, to_file='/content/drive/MyDrive/SU_Projekt/gan.png')\n",
        "  return model"
      ]
    },
    {
      "cell_type": "code",
      "execution_count": null,
      "metadata": {
        "id": "RCJxcqw3Xb2N"
      },
      "outputs": [],
      "source": [
        "gan = make_gan(generator, discriminator, img_shape)"
      ]
    },
    {
      "cell_type": "code",
      "execution_count": null,
      "metadata": {
        "id": "isVrf8W6yeUa"
      },
      "outputs": [],
      "source": [
        "# select real samples from dataset, return image + target\n",
        "def select_real_samples(data, num_of_samples, shape):\n",
        "  #split data\n",
        "  trainSat, trainMap = data\n",
        "  #generate num_of_samples random numbers between 0 and trainSat.shape[0]\n",
        "  rndX = randint(0, trainSat.shape[0], num_of_samples)\n",
        "  # get selected imgs\n",
        "  X1, X2 = trainSat[rndX], trainMap[rndX]\n",
        "  # create labels - real class (1)\n",
        "  Y = np.ones((num_of_samples, shape, shape, 1))\n",
        "  return [X1, X2, Y]"
      ]
    },
    {
      "cell_type": "code",
      "execution_count": null,
      "metadata": {
        "id": "ZFqtYlafyegr"
      },
      "outputs": [],
      "source": [
        "# generate fake samples\n",
        "def generate_fake_samples(gen_model, samples, shape):\n",
        "  # generate maps\n",
        "  X = gen_model.predict(samples)\n",
        "  # create labels - fake class (0)\n",
        "  Y = np.zeros((len(X), shape, shape, 1))\n",
        "  return X,Y"
      ]
    },
    {
      "cell_type": "markdown",
      "metadata": {
        "id": "XT0HhlK-NrWO"
      },
      "source": [
        "## Train the model"
      ]
    },
    {
      "cell_type": "code",
      "source": [
        "def save_iteration(g_model, d_model, d1_loss, d2_loss, g_loss, i):\n",
        "      p = '/content/drive/MyDrive/SU_Projekt/gen' + str(i) + '.h5'\n",
        "      p1 = '/content/drive/MyDrive/SU_Projekt/dis' + str(i) + '.h5'\n",
        "      g_model.save(p)\n",
        "      d_model.save(p1)\n",
        "      np.savetxt('/content/drive/MyDrive/SU_Projekt/cgan/d1_' + str(i)+'.txt', np.asarray(d1_loss))\n",
        "      np.savetxt('/content/drive/MyDrive/SU_Projekt/cgan/d2_' + str(i) + '.txt', np.asarray(d2_loss))\n",
        "      np.savetxt('/content/drive/MyDrive/SU_Projekt/cgan/g_' + str(i) + '.txt', np.asarray(g_loss))"
      ],
      "metadata": {
        "id": "sQMHvC-lhdgF"
      },
      "execution_count": null,
      "outputs": []
    },
    {
      "cell_type": "code",
      "execution_count": null,
      "metadata": {
        "id": "DUUqZGPrmHOt"
      },
      "outputs": [],
      "source": [
        "#train model\n",
        "def train_model(gen_model, dis_model, gan_model, data, tests, num_epochs=100, num_batch=1):\n",
        "  dis_loss_1 = []\n",
        "  dis_loss_2 = []\n",
        "  gan_loss = []\n",
        "  out_dim = dis_model.output_shape[1]\n",
        "  trainSat, trainMap = data\n",
        "  print(len(trainSat))\n",
        "  batch_per_epoch = int(len(trainSat)/num_batch)\n",
        "  num_of_steps = batch_per_epoch * num_epochs\n",
        "  #half_batch = int(num_batch / 2)\n",
        "  for i in tqdm(range(num_of_steps)):\n",
        "    if i % 10000 == 0:\n",
        "      save_iterations(gen_model, dis_model, dis_loss_1, dis_loss_2, gan_loss, i)\n",
        "    #select real samples\n",
        "    realSat, realMap, real_y = select_real_samples(data, num_batch, out_dim)\n",
        "    #generate fake samples\n",
        "    fakeMap, fake_y = generate_fake_samples(gen_model, realSat, out_dim)\n",
        "    #update discriminator for real samples\n",
        "    dis_loss1 = dis_model.train_on_batch([realSat, realMap], real_y)\n",
        "    dis_loss_1.append(dis_loss1)\n",
        "    # update discriminator for fake samples\n",
        "    dis_loss2 = dis_model.train_on_batch([realSat, fakeMap], fake_y)\n",
        "    dis_loss_2.append(dis_loss2)\n",
        "    #update generator\n",
        "    gan_loss_i = gan_model.train_on_batch(realSat,[real_y, realMap])\n",
        "    gan_loss.append(gan_loss_i)\n",
        "  gen_model.save('/content/drive/MyDrive/SU_Projekt/cgan/cgan.h5')\n",
        "  return dis_loss_1, dis_loss_2, gan_loss"
      ]
    },
    {
      "cell_type": "code",
      "execution_count": null,
      "metadata": {
        "id": "ahAbmfCCe-nW"
      },
      "outputs": [],
      "source": [
        "d1, d2, g = train_model(generator, discriminator, gan, data)\n",
        "np.savetxt('/content/drive/MyDrive/SU_Projekt/gan2/d1_loss.txt', np.asarray(d1))\n",
        "np.savetxt('/content/drive/MyDrive/SU_Projekt/gan2/d2_loss.txt', np.asarray(d2)\n",
        "np.savetxt('/content/drive/MyDrive/SU_Projekt/gan2/g_loss.txt', np.asarray(g))"
      ]
    },
    {
      "cell_type": "code",
      "execution_count": null,
      "metadata": {
        "id": "J6cJPe0uqcsF"
      },
      "outputs": [],
      "source": [
        "from keras.models import load_model\n",
        "m = load_model('/content/drive/MyDrive/SU_Projekt/cgan/gen110000.h5', compile=False)"
      ]
    },
    {
      "cell_type": "markdown",
      "metadata": {
        "id": "_3NfSJQUOswg"
      },
      "source": [
        "## Generate maps"
      ]
    },
    {
      "cell_type": "code",
      "execution_count": null,
      "metadata": {
        "id": "uByGBdZjxydZ"
      },
      "outputs": [],
      "source": [
        "from keras.preprocessing.image import img_to_array\n",
        "from keras.preprocessing.image import load_img\n",
        "from numpy import expand_dims\n",
        "from matplotlib import pyplot\n",
        "import tensorflow as tf\n",
        "def load_image(filename, size=(256,256)):\n",
        "    pixels = load_img(filename, target_size=size)\n",
        "    pixels = img_to_array(pixels)\n",
        "    pixels = (pixels - 127.5) / 127.5\n",
        "    pixels = expand_dims(pixels, 0)\n",
        "    return pixels"
      ]
    },
    {
      "cell_type": "code",
      "execution_count": null,
      "metadata": {
        "id": "_qE3tQXYwo6b"
      },
      "outputs": [],
      "source": [
        "src_path = '/content/drive/MyDrive/SU_Projekt/dataset/trainSplit/sats/210.jpg'\n",
        "src_image = load_image(src_path)\n",
        "gen_image = m.predict(src_image)\n",
        "src_sat = load_img(src_path)\n",
        "#src_image = src_image*127.5 + 127.5\n",
        "fig = plt.figure(figsize=(10, 7))\n",
        "# setting values to rows and column variables\n",
        "g_image = gen_image[0]*127.5+127.5\n",
        "rows = 1\n",
        "columns = 2\n",
        "fig.add_subplot(rows, columns, 1)\n",
        "plt.imshow(src_sat)\n",
        "plt.axis('off')\n",
        "fig.add_subplot(rows, columns, 3)\n",
        "plt.imshow((gen_image[0]+1)/2)\n",
        "plt.axis('off')"
      ]
    }
  ],
  "metadata": {
    "colab": {
      "collapsed_sections": [],
      "name": "SatelliteToMaps.ipynb",
      "provenance": []
    },
    "gpuClass": "standard",
    "kernelspec": {
      "display_name": "Python 3",
      "name": "python3"
    },
    "language_info": {
      "name": "python"
    },
    "widgets": {
      "application/vnd.jupyter.widget-state+json": {
        "e8348a7415bc4095a5de5a58026a78d7": {
          "model_module": "@jupyter-widgets/controls",
          "model_name": "HBoxModel",
          "model_module_version": "1.5.0",
          "state": {
            "_dom_classes": [],
            "_model_module": "@jupyter-widgets/controls",
            "_model_module_version": "1.5.0",
            "_model_name": "HBoxModel",
            "_view_count": null,
            "_view_module": "@jupyter-widgets/controls",
            "_view_module_version": "1.5.0",
            "_view_name": "HBoxView",
            "box_style": "",
            "children": [
              "IPY_MODEL_b3903c0bba6045dfa8010321404c2232",
              "IPY_MODEL_235716062da54f54a5647b7dff75a46b",
              "IPY_MODEL_58198212903f483a98105d2f3eada086"
            ],
            "layout": "IPY_MODEL_5d22f61f022444df92282cc033a9681d"
          }
        },
        "b3903c0bba6045dfa8010321404c2232": {
          "model_module": "@jupyter-widgets/controls",
          "model_name": "HTMLModel",
          "model_module_version": "1.5.0",
          "state": {
            "_dom_classes": [],
            "_model_module": "@jupyter-widgets/controls",
            "_model_module_version": "1.5.0",
            "_model_name": "HTMLModel",
            "_view_count": null,
            "_view_module": "@jupyter-widgets/controls",
            "_view_module_version": "1.5.0",
            "_view_name": "HTMLView",
            "description": "",
            "description_tooltip": null,
            "layout": "IPY_MODEL_e2d4c2ddc8994d30832bd951c84cee6c",
            "placeholder": "​",
            "style": "IPY_MODEL_381abeee3cc54c00891695155c8545e9",
            "value": "100%"
          }
        },
        "235716062da54f54a5647b7dff75a46b": {
          "model_module": "@jupyter-widgets/controls",
          "model_name": "FloatProgressModel",
          "model_module_version": "1.5.0",
          "state": {
            "_dom_classes": [],
            "_model_module": "@jupyter-widgets/controls",
            "_model_module_version": "1.5.0",
            "_model_name": "FloatProgressModel",
            "_view_count": null,
            "_view_module": "@jupyter-widgets/controls",
            "_view_module_version": "1.5.0",
            "_view_name": "ProgressView",
            "bar_style": "success",
            "description": "",
            "description_tooltip": null,
            "layout": "IPY_MODEL_4e46565bfe014963beca335f7fd280ae",
            "max": 1307,
            "min": 0,
            "orientation": "horizontal",
            "style": "IPY_MODEL_5f115d5f5d4245de9dc333218ebf36c1",
            "value": 1307
          }
        },
        "58198212903f483a98105d2f3eada086": {
          "model_module": "@jupyter-widgets/controls",
          "model_name": "HTMLModel",
          "model_module_version": "1.5.0",
          "state": {
            "_dom_classes": [],
            "_model_module": "@jupyter-widgets/controls",
            "_model_module_version": "1.5.0",
            "_model_name": "HTMLModel",
            "_view_count": null,
            "_view_module": "@jupyter-widgets/controls",
            "_view_module_version": "1.5.0",
            "_view_name": "HTMLView",
            "description": "",
            "description_tooltip": null,
            "layout": "IPY_MODEL_a4ccedb39e3249a390c3a3c26ab00247",
            "placeholder": "​",
            "style": "IPY_MODEL_2a989faac6304f77a7fa8999caf6e692",
            "value": " 1307/1307 [19:03&lt;00:00,  1.10s/it]"
          }
        },
        "5d22f61f022444df92282cc033a9681d": {
          "model_module": "@jupyter-widgets/base",
          "model_name": "LayoutModel",
          "model_module_version": "1.2.0",
          "state": {
            "_model_module": "@jupyter-widgets/base",
            "_model_module_version": "1.2.0",
            "_model_name": "LayoutModel",
            "_view_count": null,
            "_view_module": "@jupyter-widgets/base",
            "_view_module_version": "1.2.0",
            "_view_name": "LayoutView",
            "align_content": null,
            "align_items": null,
            "align_self": null,
            "border": null,
            "bottom": null,
            "display": null,
            "flex": null,
            "flex_flow": null,
            "grid_area": null,
            "grid_auto_columns": null,
            "grid_auto_flow": null,
            "grid_auto_rows": null,
            "grid_column": null,
            "grid_gap": null,
            "grid_row": null,
            "grid_template_areas": null,
            "grid_template_columns": null,
            "grid_template_rows": null,
            "height": null,
            "justify_content": null,
            "justify_items": null,
            "left": null,
            "margin": null,
            "max_height": null,
            "max_width": null,
            "min_height": null,
            "min_width": null,
            "object_fit": null,
            "object_position": null,
            "order": null,
            "overflow": null,
            "overflow_x": null,
            "overflow_y": null,
            "padding": null,
            "right": null,
            "top": null,
            "visibility": null,
            "width": null
          }
        },
        "e2d4c2ddc8994d30832bd951c84cee6c": {
          "model_module": "@jupyter-widgets/base",
          "model_name": "LayoutModel",
          "model_module_version": "1.2.0",
          "state": {
            "_model_module": "@jupyter-widgets/base",
            "_model_module_version": "1.2.0",
            "_model_name": "LayoutModel",
            "_view_count": null,
            "_view_module": "@jupyter-widgets/base",
            "_view_module_version": "1.2.0",
            "_view_name": "LayoutView",
            "align_content": null,
            "align_items": null,
            "align_self": null,
            "border": null,
            "bottom": null,
            "display": null,
            "flex": null,
            "flex_flow": null,
            "grid_area": null,
            "grid_auto_columns": null,
            "grid_auto_flow": null,
            "grid_auto_rows": null,
            "grid_column": null,
            "grid_gap": null,
            "grid_row": null,
            "grid_template_areas": null,
            "grid_template_columns": null,
            "grid_template_rows": null,
            "height": null,
            "justify_content": null,
            "justify_items": null,
            "left": null,
            "margin": null,
            "max_height": null,
            "max_width": null,
            "min_height": null,
            "min_width": null,
            "object_fit": null,
            "object_position": null,
            "order": null,
            "overflow": null,
            "overflow_x": null,
            "overflow_y": null,
            "padding": null,
            "right": null,
            "top": null,
            "visibility": null,
            "width": null
          }
        },
        "381abeee3cc54c00891695155c8545e9": {
          "model_module": "@jupyter-widgets/controls",
          "model_name": "DescriptionStyleModel",
          "model_module_version": "1.5.0",
          "state": {
            "_model_module": "@jupyter-widgets/controls",
            "_model_module_version": "1.5.0",
            "_model_name": "DescriptionStyleModel",
            "_view_count": null,
            "_view_module": "@jupyter-widgets/base",
            "_view_module_version": "1.2.0",
            "_view_name": "StyleView",
            "description_width": ""
          }
        },
        "4e46565bfe014963beca335f7fd280ae": {
          "model_module": "@jupyter-widgets/base",
          "model_name": "LayoutModel",
          "model_module_version": "1.2.0",
          "state": {
            "_model_module": "@jupyter-widgets/base",
            "_model_module_version": "1.2.0",
            "_model_name": "LayoutModel",
            "_view_count": null,
            "_view_module": "@jupyter-widgets/base",
            "_view_module_version": "1.2.0",
            "_view_name": "LayoutView",
            "align_content": null,
            "align_items": null,
            "align_self": null,
            "border": null,
            "bottom": null,
            "display": null,
            "flex": null,
            "flex_flow": null,
            "grid_area": null,
            "grid_auto_columns": null,
            "grid_auto_flow": null,
            "grid_auto_rows": null,
            "grid_column": null,
            "grid_gap": null,
            "grid_row": null,
            "grid_template_areas": null,
            "grid_template_columns": null,
            "grid_template_rows": null,
            "height": null,
            "justify_content": null,
            "justify_items": null,
            "left": null,
            "margin": null,
            "max_height": null,
            "max_width": null,
            "min_height": null,
            "min_width": null,
            "object_fit": null,
            "object_position": null,
            "order": null,
            "overflow": null,
            "overflow_x": null,
            "overflow_y": null,
            "padding": null,
            "right": null,
            "top": null,
            "visibility": null,
            "width": null
          }
        },
        "5f115d5f5d4245de9dc333218ebf36c1": {
          "model_module": "@jupyter-widgets/controls",
          "model_name": "ProgressStyleModel",
          "model_module_version": "1.5.0",
          "state": {
            "_model_module": "@jupyter-widgets/controls",
            "_model_module_version": "1.5.0",
            "_model_name": "ProgressStyleModel",
            "_view_count": null,
            "_view_module": "@jupyter-widgets/base",
            "_view_module_version": "1.2.0",
            "_view_name": "StyleView",
            "bar_color": null,
            "description_width": ""
          }
        },
        "a4ccedb39e3249a390c3a3c26ab00247": {
          "model_module": "@jupyter-widgets/base",
          "model_name": "LayoutModel",
          "model_module_version": "1.2.0",
          "state": {
            "_model_module": "@jupyter-widgets/base",
            "_model_module_version": "1.2.0",
            "_model_name": "LayoutModel",
            "_view_count": null,
            "_view_module": "@jupyter-widgets/base",
            "_view_module_version": "1.2.0",
            "_view_name": "LayoutView",
            "align_content": null,
            "align_items": null,
            "align_self": null,
            "border": null,
            "bottom": null,
            "display": null,
            "flex": null,
            "flex_flow": null,
            "grid_area": null,
            "grid_auto_columns": null,
            "grid_auto_flow": null,
            "grid_auto_rows": null,
            "grid_column": null,
            "grid_gap": null,
            "grid_row": null,
            "grid_template_areas": null,
            "grid_template_columns": null,
            "grid_template_rows": null,
            "height": null,
            "justify_content": null,
            "justify_items": null,
            "left": null,
            "margin": null,
            "max_height": null,
            "max_width": null,
            "min_height": null,
            "min_width": null,
            "object_fit": null,
            "object_position": null,
            "order": null,
            "overflow": null,
            "overflow_x": null,
            "overflow_y": null,
            "padding": null,
            "right": null,
            "top": null,
            "visibility": null,
            "width": null
          }
        },
        "2a989faac6304f77a7fa8999caf6e692": {
          "model_module": "@jupyter-widgets/controls",
          "model_name": "DescriptionStyleModel",
          "model_module_version": "1.5.0",
          "state": {
            "_model_module": "@jupyter-widgets/controls",
            "_model_module_version": "1.5.0",
            "_model_name": "DescriptionStyleModel",
            "_view_count": null,
            "_view_module": "@jupyter-widgets/base",
            "_view_module_version": "1.2.0",
            "_view_name": "StyleView",
            "description_width": ""
          }
        },
        "46e0614f4ea5422f8373694d91792773": {
          "model_module": "@jupyter-widgets/controls",
          "model_name": "HBoxModel",
          "model_module_version": "1.5.0",
          "state": {
            "_dom_classes": [],
            "_model_module": "@jupyter-widgets/controls",
            "_model_module_version": "1.5.0",
            "_model_name": "HBoxModel",
            "_view_count": null,
            "_view_module": "@jupyter-widgets/controls",
            "_view_module_version": "1.5.0",
            "_view_name": "HBoxView",
            "box_style": "",
            "children": [
              "IPY_MODEL_5740fe1db8d64eceb3882332f3fbf0ec",
              "IPY_MODEL_a1d35d3921ff4007bda82dcc31a7e9fc",
              "IPY_MODEL_170ffbce3fdf43e8937405c4f5633f66"
            ],
            "layout": "IPY_MODEL_4e379eee03c14c04935f57ecc6627d48"
          }
        },
        "5740fe1db8d64eceb3882332f3fbf0ec": {
          "model_module": "@jupyter-widgets/controls",
          "model_name": "HTMLModel",
          "model_module_version": "1.5.0",
          "state": {
            "_dom_classes": [],
            "_model_module": "@jupyter-widgets/controls",
            "_model_module_version": "1.5.0",
            "_model_name": "HTMLModel",
            "_view_count": null,
            "_view_module": "@jupyter-widgets/controls",
            "_view_module_version": "1.5.0",
            "_view_name": "HTMLView",
            "description": "",
            "description_tooltip": null,
            "layout": "IPY_MODEL_52246fa3e91647bc9a787e2172bd142a",
            "placeholder": "​",
            "style": "IPY_MODEL_9957dc4a77c342ea9086ae9dd36131f8",
            "value": "100%"
          }
        },
        "a1d35d3921ff4007bda82dcc31a7e9fc": {
          "model_module": "@jupyter-widgets/controls",
          "model_name": "FloatProgressModel",
          "model_module_version": "1.5.0",
          "state": {
            "_dom_classes": [],
            "_model_module": "@jupyter-widgets/controls",
            "_model_module_version": "1.5.0",
            "_model_name": "FloatProgressModel",
            "_view_count": null,
            "_view_module": "@jupyter-widgets/controls",
            "_view_module_version": "1.5.0",
            "_view_name": "ProgressView",
            "bar_style": "success",
            "description": "",
            "description_tooltip": null,
            "layout": "IPY_MODEL_d219165b3b4140c4b47baa11606df7c9",
            "max": 1307,
            "min": 0,
            "orientation": "horizontal",
            "style": "IPY_MODEL_fd665b8563704b059605c7938b4ba9db",
            "value": 1307
          }
        },
        "170ffbce3fdf43e8937405c4f5633f66": {
          "model_module": "@jupyter-widgets/controls",
          "model_name": "HTMLModel",
          "model_module_version": "1.5.0",
          "state": {
            "_dom_classes": [],
            "_model_module": "@jupyter-widgets/controls",
            "_model_module_version": "1.5.0",
            "_model_name": "HTMLModel",
            "_view_count": null,
            "_view_module": "@jupyter-widgets/controls",
            "_view_module_version": "1.5.0",
            "_view_name": "HTMLView",
            "description": "",
            "description_tooltip": null,
            "layout": "IPY_MODEL_4476d8b6f9d14a48ac2ff6ab54332aab",
            "placeholder": "​",
            "style": "IPY_MODEL_d2705892ee5848d0bd6474d9a3b59664",
            "value": " 1307/1307 [03:15&lt;00:00,  3.67it/s]"
          }
        },
        "4e379eee03c14c04935f57ecc6627d48": {
          "model_module": "@jupyter-widgets/base",
          "model_name": "LayoutModel",
          "model_module_version": "1.2.0",
          "state": {
            "_model_module": "@jupyter-widgets/base",
            "_model_module_version": "1.2.0",
            "_model_name": "LayoutModel",
            "_view_count": null,
            "_view_module": "@jupyter-widgets/base",
            "_view_module_version": "1.2.0",
            "_view_name": "LayoutView",
            "align_content": null,
            "align_items": null,
            "align_self": null,
            "border": null,
            "bottom": null,
            "display": null,
            "flex": null,
            "flex_flow": null,
            "grid_area": null,
            "grid_auto_columns": null,
            "grid_auto_flow": null,
            "grid_auto_rows": null,
            "grid_column": null,
            "grid_gap": null,
            "grid_row": null,
            "grid_template_areas": null,
            "grid_template_columns": null,
            "grid_template_rows": null,
            "height": null,
            "justify_content": null,
            "justify_items": null,
            "left": null,
            "margin": null,
            "max_height": null,
            "max_width": null,
            "min_height": null,
            "min_width": null,
            "object_fit": null,
            "object_position": null,
            "order": null,
            "overflow": null,
            "overflow_x": null,
            "overflow_y": null,
            "padding": null,
            "right": null,
            "top": null,
            "visibility": null,
            "width": null
          }
        },
        "52246fa3e91647bc9a787e2172bd142a": {
          "model_module": "@jupyter-widgets/base",
          "model_name": "LayoutModel",
          "model_module_version": "1.2.0",
          "state": {
            "_model_module": "@jupyter-widgets/base",
            "_model_module_version": "1.2.0",
            "_model_name": "LayoutModel",
            "_view_count": null,
            "_view_module": "@jupyter-widgets/base",
            "_view_module_version": "1.2.0",
            "_view_name": "LayoutView",
            "align_content": null,
            "align_items": null,
            "align_self": null,
            "border": null,
            "bottom": null,
            "display": null,
            "flex": null,
            "flex_flow": null,
            "grid_area": null,
            "grid_auto_columns": null,
            "grid_auto_flow": null,
            "grid_auto_rows": null,
            "grid_column": null,
            "grid_gap": null,
            "grid_row": null,
            "grid_template_areas": null,
            "grid_template_columns": null,
            "grid_template_rows": null,
            "height": null,
            "justify_content": null,
            "justify_items": null,
            "left": null,
            "margin": null,
            "max_height": null,
            "max_width": null,
            "min_height": null,
            "min_width": null,
            "object_fit": null,
            "object_position": null,
            "order": null,
            "overflow": null,
            "overflow_x": null,
            "overflow_y": null,
            "padding": null,
            "right": null,
            "top": null,
            "visibility": null,
            "width": null
          }
        },
        "9957dc4a77c342ea9086ae9dd36131f8": {
          "model_module": "@jupyter-widgets/controls",
          "model_name": "DescriptionStyleModel",
          "model_module_version": "1.5.0",
          "state": {
            "_model_module": "@jupyter-widgets/controls",
            "_model_module_version": "1.5.0",
            "_model_name": "DescriptionStyleModel",
            "_view_count": null,
            "_view_module": "@jupyter-widgets/base",
            "_view_module_version": "1.2.0",
            "_view_name": "StyleView",
            "description_width": ""
          }
        },
        "d219165b3b4140c4b47baa11606df7c9": {
          "model_module": "@jupyter-widgets/base",
          "model_name": "LayoutModel",
          "model_module_version": "1.2.0",
          "state": {
            "_model_module": "@jupyter-widgets/base",
            "_model_module_version": "1.2.0",
            "_model_name": "LayoutModel",
            "_view_count": null,
            "_view_module": "@jupyter-widgets/base",
            "_view_module_version": "1.2.0",
            "_view_name": "LayoutView",
            "align_content": null,
            "align_items": null,
            "align_self": null,
            "border": null,
            "bottom": null,
            "display": null,
            "flex": null,
            "flex_flow": null,
            "grid_area": null,
            "grid_auto_columns": null,
            "grid_auto_flow": null,
            "grid_auto_rows": null,
            "grid_column": null,
            "grid_gap": null,
            "grid_row": null,
            "grid_template_areas": null,
            "grid_template_columns": null,
            "grid_template_rows": null,
            "height": null,
            "justify_content": null,
            "justify_items": null,
            "left": null,
            "margin": null,
            "max_height": null,
            "max_width": null,
            "min_height": null,
            "min_width": null,
            "object_fit": null,
            "object_position": null,
            "order": null,
            "overflow": null,
            "overflow_x": null,
            "overflow_y": null,
            "padding": null,
            "right": null,
            "top": null,
            "visibility": null,
            "width": null
          }
        },
        "fd665b8563704b059605c7938b4ba9db": {
          "model_module": "@jupyter-widgets/controls",
          "model_name": "ProgressStyleModel",
          "model_module_version": "1.5.0",
          "state": {
            "_model_module": "@jupyter-widgets/controls",
            "_model_module_version": "1.5.0",
            "_model_name": "ProgressStyleModel",
            "_view_count": null,
            "_view_module": "@jupyter-widgets/base",
            "_view_module_version": "1.2.0",
            "_view_name": "StyleView",
            "bar_color": null,
            "description_width": ""
          }
        },
        "4476d8b6f9d14a48ac2ff6ab54332aab": {
          "model_module": "@jupyter-widgets/base",
          "model_name": "LayoutModel",
          "model_module_version": "1.2.0",
          "state": {
            "_model_module": "@jupyter-widgets/base",
            "_model_module_version": "1.2.0",
            "_model_name": "LayoutModel",
            "_view_count": null,
            "_view_module": "@jupyter-widgets/base",
            "_view_module_version": "1.2.0",
            "_view_name": "LayoutView",
            "align_content": null,
            "align_items": null,
            "align_self": null,
            "border": null,
            "bottom": null,
            "display": null,
            "flex": null,
            "flex_flow": null,
            "grid_area": null,
            "grid_auto_columns": null,
            "grid_auto_flow": null,
            "grid_auto_rows": null,
            "grid_column": null,
            "grid_gap": null,
            "grid_row": null,
            "grid_template_areas": null,
            "grid_template_columns": null,
            "grid_template_rows": null,
            "height": null,
            "justify_content": null,
            "justify_items": null,
            "left": null,
            "margin": null,
            "max_height": null,
            "max_width": null,
            "min_height": null,
            "min_width": null,
            "object_fit": null,
            "object_position": null,
            "order": null,
            "overflow": null,
            "overflow_x": null,
            "overflow_y": null,
            "padding": null,
            "right": null,
            "top": null,
            "visibility": null,
            "width": null
          }
        },
        "d2705892ee5848d0bd6474d9a3b59664": {
          "model_module": "@jupyter-widgets/controls",
          "model_name": "DescriptionStyleModel",
          "model_module_version": "1.5.0",
          "state": {
            "_model_module": "@jupyter-widgets/controls",
            "_model_module_version": "1.5.0",
            "_model_name": "DescriptionStyleModel",
            "_view_count": null,
            "_view_module": "@jupyter-widgets/base",
            "_view_module_version": "1.2.0",
            "_view_name": "StyleView",
            "description_width": ""
          }
        },
        "ed5948f25bd749b0936e967444f06a09": {
          "model_module": "@jupyter-widgets/controls",
          "model_name": "HBoxModel",
          "model_module_version": "1.5.0",
          "state": {
            "_dom_classes": [],
            "_model_module": "@jupyter-widgets/controls",
            "_model_module_version": "1.5.0",
            "_model_name": "HBoxModel",
            "_view_count": null,
            "_view_module": "@jupyter-widgets/controls",
            "_view_module_version": "1.5.0",
            "_view_name": "HBoxView",
            "box_style": "",
            "children": [
              "IPY_MODEL_34d14d5bdb284b4abf00a82c86be9045",
              "IPY_MODEL_812cca1862fb4235b61804cb53aa9935",
              "IPY_MODEL_f5095f8accde4ab896a5d2d485c4eda2"
            ],
            "layout": "IPY_MODEL_990a5088427f49d6844339fc07ce84f8"
          }
        },
        "34d14d5bdb284b4abf00a82c86be9045": {
          "model_module": "@jupyter-widgets/controls",
          "model_name": "HTMLModel",
          "model_module_version": "1.5.0",
          "state": {
            "_dom_classes": [],
            "_model_module": "@jupyter-widgets/controls",
            "_model_module_version": "1.5.0",
            "_model_name": "HTMLModel",
            "_view_count": null,
            "_view_module": "@jupyter-widgets/controls",
            "_view_module_version": "1.5.0",
            "_view_name": "HTMLView",
            "description": "",
            "description_tooltip": null,
            "layout": "IPY_MODEL_be7f68a8db3942e5804fc2dcbd9043c5",
            "placeholder": "​",
            "style": "IPY_MODEL_5a904374f651401884f1ef434f5049ea",
            "value": "100%"
          }
        },
        "812cca1862fb4235b61804cb53aa9935": {
          "model_module": "@jupyter-widgets/controls",
          "model_name": "FloatProgressModel",
          "model_module_version": "1.5.0",
          "state": {
            "_dom_classes": [],
            "_model_module": "@jupyter-widgets/controls",
            "_model_module_version": "1.5.0",
            "_model_name": "FloatProgressModel",
            "_view_count": null,
            "_view_module": "@jupyter-widgets/controls",
            "_view_module_version": "1.5.0",
            "_view_name": "ProgressView",
            "bar_style": "success",
            "description": "",
            "description_tooltip": null,
            "layout": "IPY_MODEL_eb63e05f8d6d418ba2fa595f3403f8fe",
            "max": 1307,
            "min": 0,
            "orientation": "horizontal",
            "style": "IPY_MODEL_27da230a615d4bd9a3c4275feab13568",
            "value": 1307
          }
        },
        "f5095f8accde4ab896a5d2d485c4eda2": {
          "model_module": "@jupyter-widgets/controls",
          "model_name": "HTMLModel",
          "model_module_version": "1.5.0",
          "state": {
            "_dom_classes": [],
            "_model_module": "@jupyter-widgets/controls",
            "_model_module_version": "1.5.0",
            "_model_name": "HTMLModel",
            "_view_count": null,
            "_view_module": "@jupyter-widgets/controls",
            "_view_module_version": "1.5.0",
            "_view_name": "HTMLView",
            "description": "",
            "description_tooltip": null,
            "layout": "IPY_MODEL_c46a3ca0f8624b13ab0a3873804da91f",
            "placeholder": "​",
            "style": "IPY_MODEL_0632be84ff5346eaa05c082d270ef136",
            "value": " 1307/1307 [03:24&lt;00:00,  3.50it/s]"
          }
        },
        "990a5088427f49d6844339fc07ce84f8": {
          "model_module": "@jupyter-widgets/base",
          "model_name": "LayoutModel",
          "model_module_version": "1.2.0",
          "state": {
            "_model_module": "@jupyter-widgets/base",
            "_model_module_version": "1.2.0",
            "_model_name": "LayoutModel",
            "_view_count": null,
            "_view_module": "@jupyter-widgets/base",
            "_view_module_version": "1.2.0",
            "_view_name": "LayoutView",
            "align_content": null,
            "align_items": null,
            "align_self": null,
            "border": null,
            "bottom": null,
            "display": null,
            "flex": null,
            "flex_flow": null,
            "grid_area": null,
            "grid_auto_columns": null,
            "grid_auto_flow": null,
            "grid_auto_rows": null,
            "grid_column": null,
            "grid_gap": null,
            "grid_row": null,
            "grid_template_areas": null,
            "grid_template_columns": null,
            "grid_template_rows": null,
            "height": null,
            "justify_content": null,
            "justify_items": null,
            "left": null,
            "margin": null,
            "max_height": null,
            "max_width": null,
            "min_height": null,
            "min_width": null,
            "object_fit": null,
            "object_position": null,
            "order": null,
            "overflow": null,
            "overflow_x": null,
            "overflow_y": null,
            "padding": null,
            "right": null,
            "top": null,
            "visibility": null,
            "width": null
          }
        },
        "be7f68a8db3942e5804fc2dcbd9043c5": {
          "model_module": "@jupyter-widgets/base",
          "model_name": "LayoutModel",
          "model_module_version": "1.2.0",
          "state": {
            "_model_module": "@jupyter-widgets/base",
            "_model_module_version": "1.2.0",
            "_model_name": "LayoutModel",
            "_view_count": null,
            "_view_module": "@jupyter-widgets/base",
            "_view_module_version": "1.2.0",
            "_view_name": "LayoutView",
            "align_content": null,
            "align_items": null,
            "align_self": null,
            "border": null,
            "bottom": null,
            "display": null,
            "flex": null,
            "flex_flow": null,
            "grid_area": null,
            "grid_auto_columns": null,
            "grid_auto_flow": null,
            "grid_auto_rows": null,
            "grid_column": null,
            "grid_gap": null,
            "grid_row": null,
            "grid_template_areas": null,
            "grid_template_columns": null,
            "grid_template_rows": null,
            "height": null,
            "justify_content": null,
            "justify_items": null,
            "left": null,
            "margin": null,
            "max_height": null,
            "max_width": null,
            "min_height": null,
            "min_width": null,
            "object_fit": null,
            "object_position": null,
            "order": null,
            "overflow": null,
            "overflow_x": null,
            "overflow_y": null,
            "padding": null,
            "right": null,
            "top": null,
            "visibility": null,
            "width": null
          }
        },
        "5a904374f651401884f1ef434f5049ea": {
          "model_module": "@jupyter-widgets/controls",
          "model_name": "DescriptionStyleModel",
          "model_module_version": "1.5.0",
          "state": {
            "_model_module": "@jupyter-widgets/controls",
            "_model_module_version": "1.5.0",
            "_model_name": "DescriptionStyleModel",
            "_view_count": null,
            "_view_module": "@jupyter-widgets/base",
            "_view_module_version": "1.2.0",
            "_view_name": "StyleView",
            "description_width": ""
          }
        },
        "eb63e05f8d6d418ba2fa595f3403f8fe": {
          "model_module": "@jupyter-widgets/base",
          "model_name": "LayoutModel",
          "model_module_version": "1.2.0",
          "state": {
            "_model_module": "@jupyter-widgets/base",
            "_model_module_version": "1.2.0",
            "_model_name": "LayoutModel",
            "_view_count": null,
            "_view_module": "@jupyter-widgets/base",
            "_view_module_version": "1.2.0",
            "_view_name": "LayoutView",
            "align_content": null,
            "align_items": null,
            "align_self": null,
            "border": null,
            "bottom": null,
            "display": null,
            "flex": null,
            "flex_flow": null,
            "grid_area": null,
            "grid_auto_columns": null,
            "grid_auto_flow": null,
            "grid_auto_rows": null,
            "grid_column": null,
            "grid_gap": null,
            "grid_row": null,
            "grid_template_areas": null,
            "grid_template_columns": null,
            "grid_template_rows": null,
            "height": null,
            "justify_content": null,
            "justify_items": null,
            "left": null,
            "margin": null,
            "max_height": null,
            "max_width": null,
            "min_height": null,
            "min_width": null,
            "object_fit": null,
            "object_position": null,
            "order": null,
            "overflow": null,
            "overflow_x": null,
            "overflow_y": null,
            "padding": null,
            "right": null,
            "top": null,
            "visibility": null,
            "width": null
          }
        },
        "27da230a615d4bd9a3c4275feab13568": {
          "model_module": "@jupyter-widgets/controls",
          "model_name": "ProgressStyleModel",
          "model_module_version": "1.5.0",
          "state": {
            "_model_module": "@jupyter-widgets/controls",
            "_model_module_version": "1.5.0",
            "_model_name": "ProgressStyleModel",
            "_view_count": null,
            "_view_module": "@jupyter-widgets/base",
            "_view_module_version": "1.2.0",
            "_view_name": "StyleView",
            "bar_color": null,
            "description_width": ""
          }
        },
        "c46a3ca0f8624b13ab0a3873804da91f": {
          "model_module": "@jupyter-widgets/base",
          "model_name": "LayoutModel",
          "model_module_version": "1.2.0",
          "state": {
            "_model_module": "@jupyter-widgets/base",
            "_model_module_version": "1.2.0",
            "_model_name": "LayoutModel",
            "_view_count": null,
            "_view_module": "@jupyter-widgets/base",
            "_view_module_version": "1.2.0",
            "_view_name": "LayoutView",
            "align_content": null,
            "align_items": null,
            "align_self": null,
            "border": null,
            "bottom": null,
            "display": null,
            "flex": null,
            "flex_flow": null,
            "grid_area": null,
            "grid_auto_columns": null,
            "grid_auto_flow": null,
            "grid_auto_rows": null,
            "grid_column": null,
            "grid_gap": null,
            "grid_row": null,
            "grid_template_areas": null,
            "grid_template_columns": null,
            "grid_template_rows": null,
            "height": null,
            "justify_content": null,
            "justify_items": null,
            "left": null,
            "margin": null,
            "max_height": null,
            "max_width": null,
            "min_height": null,
            "min_width": null,
            "object_fit": null,
            "object_position": null,
            "order": null,
            "overflow": null,
            "overflow_x": null,
            "overflow_y": null,
            "padding": null,
            "right": null,
            "top": null,
            "visibility": null,
            "width": null
          }
        },
        "0632be84ff5346eaa05c082d270ef136": {
          "model_module": "@jupyter-widgets/controls",
          "model_name": "DescriptionStyleModel",
          "model_module_version": "1.5.0",
          "state": {
            "_model_module": "@jupyter-widgets/controls",
            "_model_module_version": "1.5.0",
            "_model_name": "DescriptionStyleModel",
            "_view_count": null,
            "_view_module": "@jupyter-widgets/base",
            "_view_module_version": "1.2.0",
            "_view_name": "StyleView",
            "description_width": ""
          }
        }
      }
    },
    "accelerator": "GPU"
  },
  "nbformat": 4,
  "nbformat_minor": 0
}